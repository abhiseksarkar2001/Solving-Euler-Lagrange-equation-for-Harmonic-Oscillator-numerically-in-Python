{
 "cells": [
  {
   "cell_type": "markdown",
   "id": "23fe8bca",
   "metadata": {},
   "source": [
    "<h3 align=\"center\"> $Solving\\:Lagrange\\:equation\\:for\\:Harmonic\\:Oscillator\\:in\\:python$ </h3> \n",
    "<h3 align=\"center\"> $-Abhisek \\: Sarkar$ </h3>"
   ]
  },
  {
   "cell_type": "markdown",
   "id": "046582bd",
   "metadata": {},
   "source": [
    "Importing necessery packages"
   ]
  },
  {
   "cell_type": "code",
   "execution_count": 1,
   "id": "f2a35a05",
   "metadata": {},
   "outputs": [],
   "source": [
    "import numpy as np\n",
    "import matplotlib.pyplot as plt\n",
    "from scipy.integrate import odeint\n",
    "import sympy as smp"
   ]
  },
  {
   "cell_type": "markdown",
   "id": "ca913d20",
   "metadata": {},
   "source": [
    "The harmonic oscillator is a system that oscillates with a frequency that is proportional to the spring constant of the system. It can be described by the following differential equation:"
   ]
  },
  {
   "cell_type": "markdown",
   "id": "38ea5488",
   "metadata": {},
   "source": [
    "<h4 align=\"center\"> m*x'' + k*x = 0 </h4>"
   ]
  },
  {
   "cell_type": "markdown",
   "id": "224e2779",
   "metadata": {},
   "source": [
    "where m is the mass of the oscillator, k is the spring constant, x is the displacement of the oscillator, and x'' is the second derivative of x with respect to time."
   ]
  },
  {
   "cell_type": "code",
   "execution_count": 2,
   "id": "a84162cd",
   "metadata": {},
   "outputs": [
    {
     "data": {
      "text/latex": [
       "$\\displaystyle k x{\\left(t \\right)} + m \\frac{d^{2}}{d t^{2}} x{\\left(t \\right)} = 0$"
      ],
      "text/plain": [
       "Eq(k*x(t) + m*Derivative(x(t), (t, 2)), 0)"
      ]
     },
     "execution_count": 2,
     "metadata": {},
     "output_type": "execute_result"
    }
   ],
   "source": [
    "t = smp.symbols('t')\n",
    "k = smp.symbols('k')\n",
    "m = smp.symbols('m')\n",
    "x = smp.symbols('x', cls=smp.Function)\n",
    "x = x(t)\n",
    "x_d = smp.diff(x, t)\n",
    "x_dd = smp.diff(x_d, t)\n",
    "eq = smp.Eq(m * x_dd + k*x, 0)\n",
    "eq"
   ]
  },
  {
   "cell_type": "markdown",
   "id": "288ab248",
   "metadata": {},
   "source": [
    "To solve this equation using the Lagrange method, we first need to define the Lagrangian of the system, which is given by:"
   ]
  },
  {
   "cell_type": "markdown",
   "id": "4033394c",
   "metadata": {},
   "source": [
    "<h4 align=\"center\"> $\\mathcal{L}$ = T - V </h4>"
   ]
  },
  {
   "cell_type": "markdown",
   "id": "77837a96",
   "metadata": {},
   "source": [
    "where T is the kinetic energy of the system and V is the potential energy of the system."
   ]
  },
  {
   "cell_type": "markdown",
   "id": "7113a42d",
   "metadata": {},
   "source": [
    "For a harmonic oscillator, the kinetic energy is given by:"
   ]
  },
  {
   "cell_type": "markdown",
   "id": "80fe6273",
   "metadata": {},
   "source": [
    "<h4 align=\"center\"> $T = \\frac{1}{2} m x'^2 $</h4>"
   ]
  },
  {
   "cell_type": "markdown",
   "id": "06788f91",
   "metadata": {},
   "source": [
    "where $x'$ is the first derivative of x with respect to time."
   ]
  },
  {
   "cell_type": "code",
   "execution_count": 3,
   "id": "5f2ad76a",
   "metadata": {},
   "outputs": [
    {
     "data": {
      "text/latex": [
       "$\\displaystyle 0.5 m \\left(\\frac{d}{d t} x{\\left(t \\right)}\\right)^{2}$"
      ],
      "text/plain": [
       "0.5*m*Derivative(x(t), t)**2"
      ]
     },
     "execution_count": 3,
     "metadata": {},
     "output_type": "execute_result"
    }
   ],
   "source": [
    "# Kinetic Energy\n",
    "T = 1/2 *m* (smp.diff(x, t)**2)\n",
    "T"
   ]
  },
  {
   "cell_type": "markdown",
   "id": "a2e62be4",
   "metadata": {},
   "source": [
    "The potential energy is given by:"
   ]
  },
  {
   "cell_type": "markdown",
   "id": "4a0cf409",
   "metadata": {},
   "source": [
    "<h4 align=\"center\"> $V = \\frac{1}{2} k x^2 $</h4>"
   ]
  },
  {
   "cell_type": "code",
   "execution_count": 4,
   "id": "e847df04",
   "metadata": {},
   "outputs": [
    {
     "data": {
      "text/latex": [
       "$\\displaystyle 0.5 k x^{2}{\\left(t \\right)}$"
      ],
      "text/plain": [
       "0.5*k*x(t)**2"
      ]
     },
     "execution_count": 4,
     "metadata": {},
     "output_type": "execute_result"
    }
   ],
   "source": [
    "# Potential Energy\n",
    "U = 1/2 * k * x**2\n",
    "U"
   ]
  },
  {
   "cell_type": "markdown",
   "id": "f7347abe",
   "metadata": {},
   "source": [
    "Now we will find out the Lagrangian $\\mathcal{L}=\\:T\\:-\\:U$"
   ]
  },
  {
   "cell_type": "code",
   "execution_count": 5,
   "id": "0d9c363f",
   "metadata": {},
   "outputs": [
    {
     "data": {
      "text/latex": [
       "$\\displaystyle - 0.5 k x^{2}{\\left(t \\right)} + 0.5 m \\left(\\frac{d}{d t} x{\\left(t \\right)}\\right)^{2}$"
      ],
      "text/plain": [
       "-0.5*k*x(t)**2 + 0.5*m*Derivative(x(t), t)**2"
      ]
     },
     "execution_count": 5,
     "metadata": {},
     "output_type": "execute_result"
    }
   ],
   "source": [
    "# Lagrangian\n",
    "L = T-U\n",
    "L"
   ]
  },
  {
   "cell_type": "markdown",
   "id": "864f269c",
   "metadata": {},
   "source": [
    "Now we have to get the Euler Lagrangian equation,"
   ]
  },
  {
   "cell_type": "markdown",
   "id": "08fd966f",
   "metadata": {},
   "source": [
    "<center> $\\frac{\\partial \\mathcal{L}}{\\partial x} - \\frac{d}{dt}\\frac{\\partial \\mathcal{L}}{\\partial \\dot{x}} = 0$"
   ]
  },
  {
   "cell_type": "markdown",
   "id": "5ca7610f",
   "metadata": {},
   "source": [
    "Here we will do,\n",
    "<center> $\\frac{d}{dt}\\frac{\\partial \\mathcal{L}}{\\partial \\dot{x}} = \\frac{\\partial \\mathcal{L}}{\\partial x}$"
   ]
  },
  {
   "cell_type": "markdown",
   "id": "52d9d484",
   "metadata": {},
   "source": [
    "Substituting these expressions into the equation for the Lagrangian, we get:"
   ]
  },
  {
   "cell_type": "code",
   "execution_count": 6,
   "id": "c5177c15",
   "metadata": {},
   "outputs": [
    {
     "data": {
      "text/latex": [
       "$\\displaystyle - 1.0 k x{\\left(t \\right)}$"
      ],
      "text/plain": [
       "-1.0*k*x(t)"
      ]
     },
     "execution_count": 6,
     "metadata": {},
     "output_type": "execute_result"
    }
   ],
   "source": [
    "rhs = L.diff(x)\n",
    "rhs"
   ]
  },
  {
   "cell_type": "code",
   "execution_count": 7,
   "id": "87ad4f6d",
   "metadata": {},
   "outputs": [
    {
     "data": {
      "text/latex": [
       "$\\displaystyle 1.0 m \\frac{d^{2}}{d t^{2}} x{\\left(t \\right)}$"
      ],
      "text/plain": [
       "1.0*m*Derivative(x(t), (t, 2))"
      ]
     },
     "execution_count": 7,
     "metadata": {},
     "output_type": "execute_result"
    }
   ],
   "source": [
    "lhs = L.diff(x.diff(t)).diff(t)\n",
    "lhs"
   ]
  },
  {
   "cell_type": "code",
   "execution_count": 8,
   "id": "68742ce0",
   "metadata": {},
   "outputs": [
    {
     "data": {
      "text/plain": [
       "[-k*x(t)/m]"
      ]
     },
     "execution_count": 8,
     "metadata": {},
     "output_type": "execute_result"
    }
   ],
   "source": [
    "x_double_dot = smp.solve(smp.Eq(rhs,lhs),x.diff(t,2))\n",
    "x_double_dot"
   ]
  },
  {
   "cell_type": "markdown",
   "id": "0c840150",
   "metadata": {},
   "source": [
    "To solve this second-order differential equation $x'' = - \\frac{kx}{m}$, we will use the scipy library in Python. "
   ]
  },
  {
   "cell_type": "code",
   "execution_count": 9,
   "id": "df827856",
   "metadata": {},
   "outputs": [
    {
     "name": "stdout",
     "output_type": "stream",
     "text": [
      "[0.00000000e+00 9.99000999e-04 1.09890110e-02 1.10889111e-01\n",
      " 6.02748763e-01 1.27395051e+00 1.96300157e+00 2.66143944e+00\n",
      " 3.31920611e+00 4.02526204e+00 4.71086687e+00 5.37813462e+00\n",
      " 6.08199347e+00 6.75087253e+00 7.45056858e+00 8.14420671e+00\n",
      " 8.79189329e+00 9.49849715e+00 1.00000000e+01]\n",
      "[[ 0.00000000e+00  9.99000667e-04  1.09885687e-02  1.10435157e-01\n",
      "   5.32368390e-01  6.88280875e-01  2.52320423e-01 -4.12662519e-01\n",
      "  -7.06955026e-01 -3.92848059e-01  2.62780513e-01  6.85736231e-01\n",
      "   5.17495737e-01 -8.81856862e-02 -6.34815448e-01 -6.11663377e-01\n",
      "  -9.11191655e-02  5.40567644e-01  7.06962803e-01]\n",
      " [ 1.00000000e+00  9.99999002e-01  9.99879244e-01  9.87728782e-01\n",
      "   6.58131681e-01 -2.29072440e-01 -9.34122593e-01 -8.11989445e-01\n",
      "  -1.71663604e-02  8.31388959e-01  9.28297972e-01  2.43596339e-01\n",
      "  -6.81323820e-01 -9.92076931e-01 -4.40206391e-01  5.01482381e-01\n",
      "   9.91512502e-01  6.44420481e-01 -8.87838970e-03]]\n"
     ]
    }
   ],
   "source": [
    "from scipy.integrate import solve_ivp\n",
    "import numpy as np\n",
    "\n",
    "def func(t, y):\n",
    "    # y[0] is x, y[1] is x'\n",
    "    return [y[1], -k * y[0] / m]\n",
    "\n",
    "k = 4.0 # coefficient in the equation\n",
    "m = 2.0 # mass\n",
    "\n",
    "# Initial condition: x(0) = 0, x'(0) = 1\n",
    "y0 = [0, 1]\n",
    "\n",
    "# Solve the equation from t=0 to t=10\n",
    "t_span = [0, 10]\n",
    "solution = solve_ivp(func, t_span, y0)\n",
    "\n",
    "# Print the solution\n",
    "print(solution.t) # time points\n",
    "print(solution.y) # solution\n"
   ]
  },
  {
   "cell_type": "markdown",
   "id": "f0d4f2c5",
   "metadata": {},
   "source": [
    "To plot the solutions, we will use matplotlib library."
   ]
  },
  {
   "cell_type": "code",
   "execution_count": 10,
   "id": "c09e05c5",
   "metadata": {},
   "outputs": [
    {
     "data": {
      "image/png": "[encoded data removed]",
      "text/plain": [
       "<Figure size 432x288 with 1 Axes>"
      ]
     },
     "metadata": {
      "needs_background": "light"
     },
     "output_type": "display_data"
    },
    {
     "data": {
      "image/png": "[encoded data removed]",
      "text/plain": [
       "<Figure size 432x288 with 1 Axes>"
      ]
     },
     "metadata": {
      "needs_background": "light"
     },
     "output_type": "display_data"
    }
   ],
   "source": [
    "import matplotlib.pyplot as plt\n",
    "\n",
    "# Extract the solution arrays from the solution object\n",
    "t = solution.t\n",
    "x = solution.y[0]\n",
    "\n",
    "# Plot the solution\n",
    "plt.plot(t, x)\n",
    "plt.xlabel('t')\n",
    "plt.ylabel('x(t)')\n",
    "plt.show()\n",
    "\n",
    "\n",
    "plt.plot(t, x,'-ob',markerfacecolor=\"red\")\n",
    "plt.xlabel('t')\n",
    "plt.ylabel('x(t)')\n",
    "plt.show()"
   ]
  },
  {
   "cell_type": "markdown",
   "id": "3e345750",
   "metadata": {},
   "source": [
    "Now we will fit the plot with a function such as $A sin (\\omega t + \\phi)$. Thus function will be fitted to the data (t, x) using the curve_fit function from scipy, and the fitted function will be plotted on top of the original data. The fitted parameters $\\omega$ and $\\phi$ will be stored in the variables w_fit and phi_fit, respectively."
   ]
  },
  {
   "cell_type": "code",
   "execution_count": 11,
   "id": "b7a4a8e7",
   "metadata": {},
   "outputs": [
    {
     "data": {
      "image/png": "[encoded data removed]",
      "text/plain": [
       "<Figure size 432x288 with 1 Axes>"
      ]
     },
     "metadata": {
      "needs_background": "light"
     },
     "output_type": "display_data"
    }
   ],
   "source": [
    "from scipy.optimize import curve_fit\n",
    "\n",
    "def sin_func(t, w, phi):\n",
    "    return np.sin(w * t + phi)\n",
    "\n",
    "# Fit the function to the data\n",
    "params, params_covariance = curve_fit(sin_func, t, x)\n",
    "\n",
    "# Extract the fitted parameters\n",
    "w_fit, phi_fit = params\n",
    "\n",
    "# Plot the fitted function\n",
    "t_fit = np.linspace(t[0], t[-1], 100)\n",
    "x_fit = sin_func(t_fit, w_fit, phi_fit)\n",
    "\n",
    "plt.plot(t, x, 'o', label='data')\n",
    "plt.plot(t_fit, x_fit, '-', label='fit')\n",
    "plt.xlabel('t')\n",
    "plt.ylabel('x(t)')\n",
    "plt.legend()\n",
    "plt.show()"
   ]
  },
  {
   "cell_type": "markdown",
   "id": "0534bd78",
   "metadata": {},
   "source": [
    "Now we will find the values of '$A$' and '$\\phi$' in the equation $y = A sin(\\omega t + \\phi)$ using the curve_fit function from scipy"
   ]
  },
  {
   "cell_type": "code",
   "execution_count": 12,
   "id": "43a8bb46",
   "metadata": {},
   "outputs": [
    {
     "name": "stdout",
     "output_type": "stream",
     "text": [
      "a = 0.7070408614720778\n",
      "phi = -6.0936891314352756e-05\n"
     ]
    }
   ],
   "source": [
    "from scipy.optimize import curve_fit\n",
    "\n",
    "def sin_func(t, a, w, phi):\n",
    "    return a * np.sin(w * t + phi)\n",
    "\n",
    "# Fit the function to the data\n",
    "params, params_covariance = curve_fit(sin_func, t, x)\n",
    "\n",
    "# Extract the fitted parameters\n",
    "a_fit, w_fit, phi_fit = params\n",
    "\n",
    "# Print the values of 'a' and 'phi'\n",
    "print(\"a =\", a_fit)\n",
    "print(\"phi =\", phi_fit)"
   ]
  }
 ],
 "metadata": {
  "kernelspec": {
   "display_name": "Python 3 (ipykernel)",
   "language": "python",
   "name": "python3"
  },
  "language_info": {
   "codemirror_mode": {
    "name": "ipython",
    "version": 3
   },
   "file_extension": ".py",
   "mimetype": "text/x-python",
   "name": "python",
   "nbconvert_exporter": "python",
   "pygments_lexer": "ipython3",
   "version": "3.9.12"
  }
 },
 "nbformat": 4,
 "nbformat_minor": 5
}
